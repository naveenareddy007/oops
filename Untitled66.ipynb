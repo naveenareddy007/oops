{
 "cells": [
  {
   "cell_type": "code",
   "execution_count": 2,
   "id": "ac06f8ab",
   "metadata": {},
   "outputs": [
    {
     "name": "stdout",
     "output_type": "stream",
     "text": [
      "Name: Max\n",
      "Age: 5\n",
      "Coat Color: Brown\n",
      "\n",
      "Name: Rocky\n",
      "Age: 3\n",
      "Coat Color: White and Brown\n",
      "Jack Russell Terrier is barking!\n",
      "\n",
      "Name: Bella\n",
      "Age: 4\n",
      "Coat Color: Fawn\n",
      "Bulldog is running!\n"
     ]
    }
   ],
   "source": [
    "\n",
    "\n",
    "# Parent class: Dog\n",
    "class Dog:\n",
    "    def __init__(self, name, age, coat_color):\n",
    "        self.name = name\n",
    "        self.age = age\n",
    "        self.coat_color = coat_color\n",
    "\n",
    "    def description(self):\n",
    "        print(\"Name:\", self.name)\n",
    "        print(\"Age:\", self.age)\n",
    "\n",
    "    def get_info(self):\n",
    "        print(\"Coat Color:\", self.coat_color)\n",
    "\n",
    "\n",
    "# Child class: JackRussellTerrier\n",
    "class JackRussellTerrier(Dog):\n",
    "    def __init__(self, name, age, coat_color):\n",
    "        super().__init__(name, age, coat_color)\n",
    "\n",
    "    def bark(self):\n",
    "        print(\"Jack Russell Terrier is barking!\")\n",
    "\n",
    "\n",
    "# Child class: Bulldog\n",
    "class Bulldog(Dog):\n",
    "    def __init__(self, name, age, coat_color):\n",
    "        super().__init__(name, age, coat_color)\n",
    "\n",
    "    def run(self):\n",
    "        print(\"Bulldog is running!\")\n",
    "\n",
    "\n",
    "# Create objects and implement functionalities\n",
    "dog1 = Dog(\"Max\", 5, \"Brown\")\n",
    "dog1.description()  # Output: Name: Max, Age: 5\n",
    "dog1.get_info()     # Output: Coat Color: Brown\n",
    "print()\n",
    "\n",
    "dog2 = JackRussellTerrier(\"Rocky\", 3, \"White and Brown\")\n",
    "dog2.description()  # Output: Name: Rocky, Age: 3\n",
    "dog2.get_info()     # Output: Coat Color: White and Brown\n",
    "dog2.bark()         # Output: Jack Russell Terrier is barking!\n",
    "print()\n",
    "\n",
    "dog3 = Bulldog(\"Bella\", 4, \"Fawn\")\n",
    "dog3.description()  # Output: Name: Bella, Age: 4\n",
    "dog3.get_info()     # Output: Coat Color: Fawn\n",
    "dog3.run()          # Output: Bulldog is running!\n",
    "\n",
    "\n",
    "\n",
    "\n",
    "\n",
    "\n",
    "\n",
    "\n"
   ]
  },
  {
   "cell_type": "code",
   "execution_count": null,
   "id": "19bc49c7",
   "metadata": {},
   "outputs": [],
   "source": []
  }
 ],
 "metadata": {
  "kernelspec": {
   "display_name": "Python 3 (ipykernel)",
   "language": "python",
   "name": "python3"
  },
  "language_info": {
   "codemirror_mode": {
    "name": "ipython",
    "version": 3
   },
   "file_extension": ".py",
   "mimetype": "text/x-python",
   "name": "python",
   "nbconvert_exporter": "python",
   "pygments_lexer": "ipython3",
   "version": "3.10.9"
  }
 },
 "nbformat": 4,
 "nbformat_minor": 5
}
